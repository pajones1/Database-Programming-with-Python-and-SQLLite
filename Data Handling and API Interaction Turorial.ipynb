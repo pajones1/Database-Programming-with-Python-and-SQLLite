{
 "cells": [
  {
   "cell_type": "markdown",
   "id": "e97e1f7a",
   "metadata": {},
   "source": [
    "# # Data Handling and API Interaction Tutorial 🌍:\n",
    "# *Database Programming with Python and SQLite*"
   ]
  },
  {
   "cell_type": "markdown",
   "id": "6408a702",
   "metadata": {},
   "source": [
    "<a name=\"demo\"></a>\n",
    "## Using SQLite\n",
    "\n",
    "### Advantages of SQLite\n",
    "\n",
    "- does not run on a separate server\n",
    "- creates portable SQL databases saved in a single file\n",
    "- databases are stored in a very efficient manner and allow fast querying\n",
    "- ideal for small databases or databases that need to be copied across machines.\n",
    "- prototyping applications (e.g. as an embedded database server in a Python program).\n",
    "\n"
   ]
  },
  {
   "cell_type": "markdown",
   "id": "81643a1a",
   "metadata": {},
   "source": [
    "### The `sqlite3` Command Line Utility\n",
    "\n",
    "- useful for basic SQL tasks and database maintenance\n",
    "- for creating and dropping databases, it may be safer to use the command line than to roll the code into a Python program"
   ]
  },
  {
   "cell_type": "markdown",
   "id": "51aedff3",
   "metadata": {},
   "source": [
    "1. Add the sqlite3 installation folder to your PATH environment variable.\n",
    "2. Open a command window.\n",
    "3. Navigate to your preferred working directory.\n",
    "4. Start the sqlite3 command line utility and create a database called \"ex1\":\n",
    "\n",
    "`$ sqlite3 ex1`\n",
    "\n",
    "Output:  \n",
    "\n",
    "`SQLite version 3.8.5 2014-05-29 12:36:14\n",
    "Enter \".help\" for usage hints.\n",
    "sqlite>`\n",
    "\n",
    "*Nb. If you leave out the database name (after `sqlite3`, above) a new, temporary database will be created; it will be destroyed upon exiting sqlite3.*  \n"
   ]
  },
  {
   "cell_type": "markdown",
   "id": "fdae493c",
   "metadata": {},
   "source": [
    "Enter the following commands at the sqlite prompt (not shown):\n",
    "\n",
    "`create table tbl1(one varchar(10), two smallint);\n",
    "insert into tbl1 values('hello!',10);\n",
    "insert into tbl1 values('goodbye', 20);\n",
    "select * from tbl1;`\n",
    "\n",
    "Output:  \n",
    "\n",
    "`hello!|10\n",
    "goodbye|20`"
   ]
  },
  {
   "cell_type": "markdown",
   "id": "f0a7e6b7",
   "metadata": {},
   "source": [
    "Enter `.help` at the sqlite3 command prompt. This lists the available \"dot commands\".\n",
    "\n",
    "Some of the more useful dot commands include:\n",
    "\n",
    "`  \n",
    ".backup ?DB? FILE      Backup DB (default \"main\") to FILE.\n",
    ".cd DIRECTORY          Change the working directory to DIRECTORY\n",
    ".clone NEWDB           Clone data into NEWDB from the existing database\n",
    ".databases             List names and files of attached databases\n",
    ".dump ?TABLE? ...      Dump the database in an SQL text format.\n",
    ".excel                 Display the output of next command in a spreadsheet\n",
    ".exit                  Exit this program\n",
    ".headers on|off        Turn display of headers on or off\n",
    ".help                  Show this message\n",
    ".import FILE TABLE     Import data from FILE into TABLE\n",
    ".indexes ?TABLE?       Show names of all indexes.\n",
    ".quit                  Exit this program\n",
    ".read FILENAME         Execute SQL in FILENAME\n",
    ".restore ?DB? FILE     Restore content of DB (default \"main\") from FILE\n",
    ".save FILE             Write in-memory database into FILE\n",
    ".tables ?TABLE?        List names of tables.`\n"
   ]
  },
  {
   "cell_type": "markdown",
   "id": "0bd7d963",
   "metadata": {},
   "source": [
    "### The `sqlite3` package\n",
    "\n",
    "The easiest way to incorporate an SQL database into a Python application is by using the `sqlite3` package for [`Python 2.7`](https://docs.python.org/2.7/library/sqlite3.html) or [`Python 3.x`](https://docs.python.org/3/library/sqlite3.html).\n",
    "\n",
    "Open a connection to an SQLite database file.  As before, if the file does not already exist it will automatically be created."
   ]
  },
  {
   "cell_type": "code",
   "execution_count": null,
   "id": "b8c8e029",
   "metadata": {},
   "outputs": [],
   "source": [
    "# sqlite3 is already installed from pandas. It does not require additional downloads.\n",
    "\n",
    "import sqlite3\n",
    "sqlite_db = 'test_db.sqlite'\n",
    "conn = sqlite3.connect(sqlite_db)\n",
    "c = conn.cursor()"
   ]
  },
  {
   "cell_type": "markdown",
   "id": "d2911ede",
   "metadata": {},
   "source": [
    "Commands can be executed by passing them as string arguments to the `execute` method of the cursor we just created for this database."
   ]
  },
  {
   "cell_type": "markdown",
   "id": "f02a61ea",
   "metadata": {},
   "source": [
    "*Nb. If this script has never been run before, the following will raise an (inconsequential) error message:*"
   ]
  },
  {
   "cell_type": "code",
   "execution_count": null,
   "id": "e0e8618a",
   "metadata": {},
   "outputs": [],
   "source": [
    "c.execute('DROP TABLE houses;')\n",
    "\n",
    "# Save (commit) the changes:\n",
    "conn.commit()\n",
    "\n",
    "# This does not run because we have not already created a table"
   ]
  },
  {
   "cell_type": "code",
   "execution_count": null,
   "id": "7d1187a4",
   "metadata": {},
   "outputs": [],
   "source": [
    "# Creating a table.\n",
    "\n",
    "c.execute('CREATE TABLE houses (field1 INTEGER PRIMARY KEY, sqft INTEGER, bdrms INTEGER, age INTEGER, price INTEGER);')\n",
    "conn.commit()"
   ]
  },
  {
   "cell_type": "markdown",
   "id": "55504b2c",
   "metadata": {},
   "source": [
    "With the database saved the table should now be viewable using SQLite Manager.\n",
    "\n",
    "#### Adding data\n",
    "\n",
    "Since we're back in python, we can now use regular programming techniques in conjunction with the sqlite connection.  In particular, the cursor's `execute()` method supports value substitution using the `?` character, which makes adding multiple records a bit easier.  See the [docs](https://docs.python.org/2.7/library/sqlite3.html) for more details.\n",
    "\n",
    "> c.execute(sql_command, values)"
   ]
  },
  {
   "cell_type": "code",
   "execution_count": null,
   "id": "7ad87555",
   "metadata": {},
   "outputs": [],
   "source": [
    "# A\n",
    "\n",
    "# This is a tuple\n",
    "last_sale = (None, 4000, 5, 22, 619000)\n",
    "\n",
    "# Execute Command. ? repreasent columns.\n",
    "c.execute('INSERT INTO houses VALUES (?,?,?,?,?)',last_sale)\n",
    "\n",
    "# Remember to commit the changes\n",
    "conn.commit()"
   ]
  },
  {
   "cell_type": "markdown",
   "id": "0c852583",
   "metadata": {},
   "source": [
    "Notice that in this syntax we use the python `None` value, rather than `NULL`, to trigger SQLite to auto-increment the Primary Key.\n",
    "\n",
    "There is a related cursor method `executemany()` which takes an array of tuples and loops through them, substituting one tuple at a time.\n",
    "\n",
    "> c.executemany(sql_command, values)"
   ]
  },
  {
   "cell_type": "code",
   "execution_count": null,
   "id": "62deaace",
   "metadata": {},
   "outputs": [],
   "source": [
    "# A. Many rows. None value is because it's a primary key\n",
    "recent_sales = [\n",
    "  (None, 2390, 4, 34, 319000),\n",
    "  (None, 1870, 3, 14, 289000),\n",
    "  (None, 1505, 3, 90, 269000),\n",
    "]\n",
    "\n",
    "# Nb. The \"?\" parameters are placeholders for data that will map to the table columns during insertion;\n",
    "# this is a security measure against SQL injection attacks:\n",
    "#\n",
    "c.executemany('INSERT INTO houses VALUES (?, ?, ?, ?, ?)', recent_sales)\n",
    "\n",
    "conn.commit()"
   ]
  },
  {
   "cell_type": "markdown",
   "id": "8f7bacd6",
   "metadata": {},
   "source": [
    "Select all rows from houses"
   ]
  },
  {
   "cell_type": "code",
   "execution_count": null,
   "id": "9a8d8d2d",
   "metadata": {},
   "outputs": [],
   "source": [
    "# A. \n",
    "\n",
    "import pandas as pd\n",
    "query = 'Select * from houses' # select all the rows from the house db\n",
    "c.execute(query)\n",
    "c.fetchall()\n",
    "pd.DataFrame(c.fetchall())"
   ]
  },
  {
   "cell_type": "markdown",
   "id": "1d8bf6b6",
   "metadata": {},
   "source": [
    "\n",
    "\n",
    "\n",
    "#### Adding data from a csv file\n",
    "One way to populate the database from a file is to use `numpy.genfromtxt` to read the file into an array (converted to a list for easier handling), and then `INSERT` those records into the database.  The `genfromtxt` function has options including the output data type, handling of missing values, skipping of header and footer rows, columns to read, and more."
   ]
  },
  {
   "cell_type": "code",
   "execution_count": null,
   "id": "e313b11f",
   "metadata": {},
   "outputs": [],
   "source": []
  },
  {
   "cell_type": "code",
   "execution_count": null,
   "id": "df9b0dcb",
   "metadata": {},
   "outputs": [],
   "source": [
    "from numpy import genfromtxt\n",
    "\n",
    "# import into nparray of ints, then convert to list of lists:\n",
    "data = genfromtxt('/housing-data.csv', dtype = 'i8',\n",
    "                    delimiter = ',', skip_header = 1).tolist()"
   ]
  },
  {
   "cell_type": "markdown",
   "id": "c6640e5b",
   "metadata": {},
   "source": [
    "Suppose we need to put a placeholder in the first column for data that will be available later. Best practice is to insert the value `None`:"
   ]
  },
  {
   "cell_type": "code",
   "execution_count": null,
   "id": "1ad4923e",
   "metadata": {},
   "outputs": [],
   "source": [
    "# prepend a None value to beginning of each sub-list:\n",
    "for d in data:\n",
    "    d.insert(0, None)"
   ]
  },
  {
   "cell_type": "markdown",
   "id": "a3818717",
   "metadata": {},
   "source": [
    "*Nb. This is why we converted the input array to a list. An array can only hold one type of data (integers in this case) so we could not have inserted `None` before we did this conversion.*"
   ]
  },
  {
   "cell_type": "code",
   "execution_count": null,
   "id": "735945f0",
   "metadata": {},
   "outputs": [],
   "source": [
    "# check:\n",
    "print(type(data))\n",
    "print(data[0:3])"
   ]
  },
  {
   "cell_type": "markdown",
   "id": "e6ae6745",
   "metadata": {},
   "source": [
    "Now we can insert each list item as a row of fields in the database."
   ]
  },
  {
   "cell_type": "code",
   "execution_count": null,
   "id": "e8ece89e",
   "metadata": {},
   "outputs": [],
   "source": [
    "# loop through data, running an INSERT on each record (i.e. sublist):\n",
    "for d in data:\n",
    "    c.execute('INSERT INTO houses VALUES (?, ?, ?, ?, ?)', d)\n",
    "\n",
    "conn.commit()"
   ]
  },
  {
   "cell_type": "markdown",
   "id": "d8bab68c",
   "metadata": {},
   "source": [
    "In this case, because we were inserting the same value for all records, so we could have simply used a 'None' in the numpy `insert` method at column 0."
   ]
  },
  {
   "cell_type": "code",
   "execution_count": null,
   "id": "bfd01309",
   "metadata": {},
   "outputs": [],
   "source": [
    "import numpy as np\n",
    "d1 = np.asarray([1200, 3, 15, 250000])\n",
    "d1 = d1.tolist()\n",
    "d1.insert(0, None)\n",
    "d1\n",
    "c.execute('INSERT INTO houses VALUES (?, ?, ?, ?, ?)', d1)\n",
    "conn.commit()"
   ]
  },
  {
   "cell_type": "markdown",
   "id": "d1c69c0e",
   "metadata": {},
   "source": [
    "#### Deleting Rows"
   ]
  },
  {
   "cell_type": "markdown",
   "id": "becc6619",
   "metadata": {},
   "source": [
    "The `DELETE FROM` statement can be used with a `WHERE` clause to specify rows to delete based on some criteria."
   ]
  },
  {
   "cell_type": "code",
   "execution_count": null,
   "id": "696c0c8e",
   "metadata": {},
   "outputs": [],
   "source": [
    "c.execute('DELETE FROM houses WHERE field1 IN (52, 53)')\n",
    "conn.commit()\n",
    "\n",
    "#When you say 'DELETE FROM houses' without a 'WHERE' it would delete the whole database... Use caution!"
   ]
  },
  {
   "cell_type": "markdown",
   "id": "dc010dc0",
   "metadata": {},
   "source": [
    "QUIZ: What would `DELETE FROM houses` do?"
   ]
  },
  {
   "cell_type": "markdown",
   "id": "b8738b2c",
   "metadata": {},
   "source": [
    "#### Filtering Rows"
   ]
  },
  {
   "cell_type": "markdown",
   "id": "344b0735",
   "metadata": {},
   "source": [
    "**1. Select Rows Where Bedrooms = 4**"
   ]
  },
  {
   "cell_type": "code",
   "execution_count": null,
   "id": "5b836ea8",
   "metadata": {},
   "outputs": [],
   "source": [
    "# \n",
    "\n",
    "bdrms_4 = c.execute('SELECT * FROM houses WHERE bdrms = 4')\n",
    "bdrms_4.fetchall()"
   ]
  },
  {
   "cell_type": "markdown",
   "id": "ad09e12c",
   "metadata": {},
   "source": [
    "**2. The following query calculates the average floor area and price of each size of house (i.e. by number of bedrooms):**"
   ]
  },
  {
   "cell_type": "code",
   "execution_count": null,
   "id": "0537bc9d",
   "metadata": {},
   "outputs": [],
   "source": [
    "# \n",
    "results = c.execute(\"SELECT bdrms, AVG(sqft) AS avg_sqft, AVG(price) AS avg_price FROM houses GROUP BY bdrms\")\n",
    "results.fetchall()\n",
    "\n",
    "#returns list of tuples"
   ]
  },
  {
   "cell_type": "markdown",
   "id": "f670a666",
   "metadata": {},
   "source": [
    "### Pandas connector\n",
    "\n",
    "While databases provide many analytical capabilities, at some point we may need to pull data into Python for more flexible processing. Large, fixed operations would be more efficient in a database, but Pandas allows for interactive processing.\n",
    "\n",
    "For example, if you want to aggregate nightly log-ins or sales for a report or dashboard, this would be a fixed operation on a large dataset. These computations would run more efficiently in the database system itself.\n",
    "\n",
    "However, if we wanted to model the patterns of login behavior or factors driving sales, then we would import the data to Python where we could use its simple interfaces to powerful analytic libraries."
   ]
  },
  {
   "cell_type": "code",
   "execution_count": null,
   "id": "0f6063b1",
   "metadata": {},
   "outputs": [],
   "source": [
    "import pandas as pd\n",
    "from pandas.io import sql"
   ]
  },
  {
   "cell_type": "markdown",
   "id": "591593cd",
   "metadata": {},
   "source": [
    "Pandas can connect to most relational databases. In this demonstration, we will create and connect to a SQLite database."
   ]
  },
  {
   "cell_type": "markdown",
   "id": "c264f161",
   "metadata": {},
   "source": [
    "### Writing data into a database\n",
    "\n",
    "Data in Pandas can be loaded into a relational database.\n",
    "\n",
    "If the data table is not too large, we can load all of it into a Pandas DataFrame:"
   ]
  },
  {
   "cell_type": "code",
   "execution_count": null,
   "id": "ac07f9e3",
   "metadata": {},
   "outputs": [],
   "source": [
    "# Nb. Use low_memory=False to ensure that type inference does not fail due to buffered processing of input:\n",
    "data = pd.read_csv('/housing-data.csv', low_memory = False)\n",
    "data.head()"
   ]
  },
  {
   "cell_type": "markdown",
   "id": "f0953c92",
   "metadata": {},
   "source": [
    "We can move data in the opposite direction -- from a DataFrame to a database -- using the `to_sql` command, similar to the `to_csv` command.\n",
    "\n",
    "`to_sql` takes as arguments:\n",
    "    - `name`, the table name to create\n",
    "    - `con`, a connection to a database\n",
    "    - `index`, whether to input the index column\n",
    "    - `schema`, if we want to write a custom schema for the new table\n",
    "    - `if_exists`, what to do if the table already exists. We can overwrite it, add to it, or fail"
   ]
  },
  {
   "cell_type": "markdown",
   "id": "5e27bfdf",
   "metadata": {},
   "source": [
    "This copies our `data` DataFrame to a sqlite3 table called `houses_pandas`:"
   ]
  },
  {
   "cell_type": "code",
   "execution_count": null,
   "id": "c26bd1b3",
   "metadata": {},
   "outputs": [],
   "source": [
    "data.to_sql('houses_pandas', con = conn, if_exists = 'replace', index = False)"
   ]
  },
  {
   "cell_type": "markdown",
   "id": "484f65f4",
   "metadata": {},
   "source": [
    "Run a query to get the average price of each house size from this table:"
   ]
  },
  {
   "cell_type": "code",
   "execution_count": null,
   "id": "015f6614",
   "metadata": {},
   "outputs": [],
   "source": [
    "#\n",
    "\n",
    "# This question should have said by bedroom side.\n",
    "# You must run this as bedroom 'bdrms' size\n",
    "\n",
    "sql_string = '''\n",
    "    SELECT bdrms, AVG(price) AS average_privce\n",
    "    FROM houses_pandas\n",
    "    GROUP BY bdrms\n",
    "   \n",
    "'''\n",
    "house_data = pd.read_sql(sql_string, con=conn)\n",
    "house_data"
   ]
  },
  {
   "cell_type": "markdown",
   "id": "eb07fffb",
   "metadata": {},
   "source": [
    "## Discussion\n",
    "\n",
    "**Scenarios for using Pandas with SQLite**\n",
    "\n",
    "1. When would you want to use Pandas on a dataset before storing it in a database?\n",
    "\n",
    "2. When would you want to use Pandas on a dataset retrieved from a database?"
   ]
  },
  {
   "cell_type": "code",
   "execution_count": null,
   "id": "ec7a0964",
   "metadata": {},
   "outputs": [],
   "source": [
    "# 1. See if their are any missing data, data transformations, validations, statistical analysis.\n",
    "# 2. If you need to reformat datasets before machine learning. \n",
    "# Or for data visualization.\n",
    "# Or for more advances querys."
   ]
  },
  {
   "cell_type": "markdown",
   "id": "3026b26a",
   "metadata": {},
   "source": [
    "<a name=\"guided-practice\"></a>\n",
    "\n",
    "\n",
    "# Reference: SQL Syntax\n",
    "\n",
    "\n",
    "#### SELECT Statement\n",
    "Every query should start with `SELECT`.  `SELECT` is followed by the names of the columns in the output.\n",
    "\n",
    "`SELECT` is always paired with `FROM`, and `FROM` identifies the table to retrieve data from.\n",
    "\n",
    "```sql\n",
    "SELECT\n",
    "<columns>\n",
    "FROM\n",
    "<table>\n",
    "```\n",
    "\n",
    "`SELECT *` denotes returns *all* of the columns.\n",
    "\n",
    "Housing Data example:\n",
    "```sql\n",
    "SELECT\n",
    "sqft, bdrms\n",
    "FROM houses_pandas;\n",
    "```\n",
    "\n",
    "**Check:** Write a query that returns the `sqft`, `bdrms` and `price`.\n",
    "\n",
    "```sql\n",
    "SELECT\n",
    "sqft, bdrms, price\n",
    "FROM houses_pandas;\n",
    "```\n",
    "\n",
    "#### WHERE Clause\n",
    "`WHERE` is used to filter table to a specific criteria and follows the `FROM` clause.\n",
    "\n",
    "```sql\n",
    "SELECT\n",
    "<columns>\n",
    "FROM\n",
    "<table>\n",
    "WHERE\n",
    "<condition>\n",
    "```\n",
    "Example:\n",
    "```sql\n",
    "SELECT\n",
    "sqft, bdrms, age, price\n",
    "FROM houses_pandas\n",
    "WHERE bdrms = 2 and price < 250000;\n",
    "```\n",
    "\n",
    "The condition is effectively a row filter; rows that match the condition will be included in the rowset that is returned by the query.\n",
    "\n",
    "**Check:** Write a query that returns the `sqft`, `bdrms`, `age` for houses older than 60 years.\n",
    ">```sql\n",
    "SELECT\n",
    "sqft, bdrms, age\n",
    "FROM houses_pandas\n",
    "WHERE age > 60;\n",
    "```"
   ]
  },
  {
   "cell_type": "markdown",
   "id": "badcd84d",
   "metadata": {},
   "source": [
    "### AGGREGATIONS\n",
    "\n",
    "Aggregations (or aggregate functions) are functions where the values of multiple rows are grouped together as input on certain criteria to form a single value of more significant meaning or measurement such as a set, a bag or a list.\n",
    "\n",
    "Examples of aggregate functions:\n",
    "\n",
    "- Average (i.e., arithmetic mean)\n",
    "- Count\n",
    "- Maximum\n",
    "- Minimum\n",
    "- Median\n",
    "- Mode\n",
    "- Sum\n",
    "\n",
    "In SQL they are performed in a `SELECT` statement as follows.\n",
    "\n",
    "```sql\n",
    "SELECT COUNT(price)\n",
    "FROM houses_pandas;\n",
    "```\n",
    "\n",
    "```sql\n",
    "SELECT AVG(sqft), MIN(price), MAX(price)\n",
    "FROM houses_pandas\n",
    "WHERE bdrms = 2;\n",
    "```"
   ]
  },
  {
   "cell_type": "markdown",
   "id": "01d286e6",
   "metadata": {},
   "source": [
    "### Read Order Data\n",
    "- P12-ListOfOrders\n",
    "- P12-OrderBreakdown"
   ]
  },
  {
   "cell_type": "markdown",
   "id": "02e4ba92",
   "metadata": {},
   "source": [
    "#### 1. Read CSV into DataFrame"
   ]
  },
  {
   "cell_type": "code",
   "execution_count": null,
   "id": "d3bb74bd",
   "metadata": {},
   "outputs": [],
   "source": [
    "import pandas as pd\n",
    "import sqlite3\n",
    "from pandas.io import sql"
   ]
  },
  {
   "cell_type": "code",
   "execution_count": null,
   "id": "f81b5a60",
   "metadata": {},
   "outputs": [],
   "source": [
    "# Reading CSV to Dataframe\n",
    "orders = pd.read_csv('/P12-ListOfOrders.csv', encoding = 'utf-8')\n",
    "orders_break_down =  pd.read_csv('/P12-OrderBreakdown.csv', encoding = 'utf-8')"
   ]
  },
  {
   "cell_type": "code",
   "execution_count": null,
   "id": "3df1c35c",
   "metadata": {},
   "outputs": [],
   "source": [
    "orders.head()"
   ]
  },
  {
   "cell_type": "code",
   "execution_count": null,
   "id": "35d3265c",
   "metadata": {},
   "outputs": [],
   "source": [
    "orders_break_down.head()"
   ]
  },
  {
   "cell_type": "markdown",
   "id": "4276d878",
   "metadata": {},
   "source": [
    "#### 2. Replace Space with Underscore in Column Names"
   ]
  },
  {
   "cell_type": "code",
   "execution_count": null,
   "id": "53ffdab5",
   "metadata": {},
   "outputs": [],
   "source": [
    "# \n",
    "orders.columns = [o.replace(' ', '_') for o in orders.columns.str.lower()]\n",
    "\n",
    "#orders.columns returns all column names.\n",
    "# This replaces the spaces ' ' with '_'\n",
    "# Then looping through the columns to replace them with lowercase strings"
   ]
  },
  {
   "cell_type": "code",
   "execution_count": null,
   "id": "931eafab",
   "metadata": {},
   "outputs": [],
   "source": [
    "# \n",
    "orders_break_down.columns = [o.replace(' ', '_') for o in orders_break_down.columns.str.lower()]"
   ]
  },
  {
   "cell_type": "markdown",
   "id": "1094f982",
   "metadata": {},
   "source": [
    "#### 3. Check DataTypes"
   ]
  },
  {
   "cell_type": "code",
   "execution_count": null,
   "id": "c49242b0",
   "metadata": {},
   "outputs": [],
   "source": [
    "# \n",
    "orders.dtypes"
   ]
  },
  {
   "cell_type": "code",
   "execution_count": null,
   "id": "ffa30558",
   "metadata": {},
   "outputs": [],
   "source": [
    "# \n",
    "orders_break_down.dtypes"
   ]
  },
  {
   "cell_type": "markdown",
   "id": "dcb595bc",
   "metadata": {},
   "source": [
    "#### 4. Save these two dataframes as a table in sqlite"
   ]
  },
  {
   "cell_type": "code",
   "execution_count": null,
   "id": "c76b758a",
   "metadata": {},
   "outputs": [],
   "source": [
    "# Establishing Local DB connection\n",
    "db_connection = sqlite3.connect('eshop.db.sqlite') #creating a local sql dataframe\n",
    "\n",
    "# Save these two dataframes as a table in sqlite\n",
    "## Reading out DataFrames as SQL Table\n",
    "orders.to_sql(name = 'orders', con = db_connection, if_exists = 'replace', index = False)\n",
    "orders_break_down.to_sql(name = 'orders_break_down', con = db_connection, if_exists = 'replace', index = False)"
   ]
  },
  {
   "cell_type": "markdown",
   "id": "904bc781",
   "metadata": {},
   "source": [
    "#### 5. Select Number of Orders for Each Customer"
   ]
  },
  {
   "cell_type": "markdown",
   "id": "3207aca3",
   "metadata": {},
   "source": [
    "We can use the `sql` function in `pandas.io` to run SQL queries to the database with the `.read_sql()` method. Here's an example:"
   ]
  },
  {
   "cell_type": "code",
   "execution_count": null,
   "id": "ed876a21",
   "metadata": {},
   "outputs": [],
   "source": [
    "# Select first 10 rows of all columns in orders table\n",
    "\n",
    "query = \"\"\"\n",
    "        SELECT *\n",
    "        FROM orders\n",
    "        LIMIT 10;\n",
    "        \"\"\"\n",
    "\n",
    "orders_head_10 = sql.read_sql(query, con=db_connection)\n",
    "orders_head_10"
   ]
  },
  {
   "cell_type": "code",
   "execution_count": null,
   "id": "c551c9cd",
   "metadata": {},
   "outputs": [],
   "source": [
    "# Select Number of Distinct Orders for Each Customer\n",
    "\n",
    "query = \"\"\"\n",
    "        SELECT customer_name, COUNT(DISTINCT order_id) AS number_of_orders\n",
    "        FROM orders\n",
    "        GROUP BY customer_name;\n",
    "        \"\"\"\n",
    "distinct_orders_per_customer = sql.read_sql(query, con=db_connection)\n",
    "distinct_orders_per_customer.head()"
   ]
  },
  {
   "cell_type": "markdown",
   "id": "2f72afd1",
   "metadata": {},
   "source": [
    "#### 6. Select Number of Customers for Each Country"
   ]
  },
  {
   "cell_type": "code",
   "execution_count": null,
   "id": "19ad44ab",
   "metadata": {},
   "outputs": [],
   "source": [
    "# Select Number of Customers for Each Country\n",
    "\n",
    "query = \"\"\"\n",
    "        SELECT country, COUNT(DISTINCT order_id) AS number_of_country\n",
    "        FROM orders\n",
    "        GROUP BY country;\n",
    "        \"\"\"\n",
    "distinct_orders_per_country = sql.read_sql(query, con=db_connection)\n",
    "distinct_orders_per_country"
   ]
  },
  {
   "cell_type": "markdown",
   "id": "f4ddaab0",
   "metadata": {},
   "source": [
    "#### 7.A Select discount, sales, quantity for Each Order from orders_break_down Table"
   ]
  },
  {
   "cell_type": "code",
   "execution_count": null,
   "id": "54231764",
   "metadata": {},
   "outputs": [],
   "source": [
    "#  Select discount, sales, quantity for Each Order from orders_break_down Table\n",
    "\n",
    "sql_string = '''\n",
    "    SELECT order_id, discount, sales, quantity\n",
    "    FROM orders_break_down\n",
    "    GROUP BY order_id;\n",
    "'''\n",
    "order_break_down_by_order_id = pd.read_sql(sql_string, con = db_connection)\n",
    "order_break_down_by_order_id"
   ]
  },
  {
   "cell_type": "markdown",
   "id": "c562a137",
   "metadata": {},
   "source": [
    "#### 7.B Select discount, sales, quantity, total price for Each Order from orders_break_down Table\n",
    "\n",
    "> Total Price = sales * quantity - discount"
   ]
  },
  {
   "cell_type": "code",
   "execution_count": null,
   "id": "f87d0b75",
   "metadata": {},
   "outputs": [],
   "source": [
    "# Select discount, sales, quantity, total price for Each Order Id from orders_break_down Table\n",
    "\n",
    "sql_string = '''\n",
    "    SELECT discount, sales, quantity, sales * quantity - discount AS total_price\n",
    "    FROM orders_break_down\n",
    "    ORDER BY total_price DESC\n",
    "'''\n",
    "order_break_down_total_price = pd.read_sql(sql_string, con = db_connection)\n",
    "order_break_down_total_price"
   ]
  },
  {
   "cell_type": "markdown",
   "id": "8caac982",
   "metadata": {},
   "source": [
    "#### 7.C Select All Orders from orders_break_down Table Where Total Price Greater Than 100"
   ]
  },
  {
   "cell_type": "code",
   "execution_count": null,
   "id": "77482312",
   "metadata": {},
   "outputs": [],
   "source": [
    "# Select All Orders from orders_break_down Table Where Total Price Greater Than 100\n",
    "\n",
    "sql_string = '''\n",
    "    SELECT\n",
    "        *\n",
    "        , (sales * quantity - discount) AS total_price\n",
    "    FROM orders_break_down\n",
    "    WHERE sales * quantity - discount > 100\n",
    "    ORDER BY total_price ASC\n",
    "\n",
    "'''\n",
    "# '*' returns all columns in the ds.\n",
    "customers = sql.read_sql(sql_string, con = db_connection)\n",
    "customers"
   ]
  },
  {
   "cell_type": "markdown",
   "id": "ed69d735",
   "metadata": {},
   "source": [
    "#### 8. Select All Customers And The Products They Have Bought"
   ]
  },
  {
   "cell_type": "code",
   "execution_count": null,
   "id": "afeb0946",
   "metadata": {},
   "outputs": [],
   "source": [
    "# Select All Order Ids, Customers And The Products (product_name) They Have Bought\n",
    "# This requires a JOIN statemenet by the key\n",
    "# This may also require a WHERE for things like 'furniture'\n",
    "\n",
    "sql_string = '''\n",
    "    SELECT\n",
    "        o.order_id\n",
    "        , o.customer_name\n",
    "        , obd.product_name\n",
    "    FROM orders o\n",
    "    JOIN orders_break_down obd\n",
    "        ON o.order_id = obd.order_id\n",
    "    WHERE obd.category = 'Furniture'\n",
    "    ORDER BY o.order_id ASC\n",
    "'''\n",
    "# Orders table is aliased as 'o'\n",
    "# Orders_break_down table is aliased as 'obd'\n",
    "# The JOIN clause is used to combine o and obd. In SQL JOIN withtout specifying the type is an INNER JOIN.\n",
    "# The WHERE is for the category 'Furniture'\n",
    "# The SELECT is for the order_id, customer_name, and product_name\n",
    "# The ORDER BY is for the order_id\n",
    "\n",
    "customers_and_products_purchased = sql.read_sql(sql_string, con = db_connection)\n",
    "customers_and_products_purchased"
   ]
  },
  {
   "cell_type": "code",
   "execution_count": null,
   "id": "1b6f8e02",
   "metadata": {},
   "outputs": [],
   "source": [
    "# Below is a similar query to the one above, but it returns all categories\n",
    "\n",
    "sql_string = '''\n",
    "    SELECT\n",
    "        o.order_id\n",
    "        , o.customer_name\n",
    "        , obd.product_name\n",
    "    FROM orders o\n",
    "    JOIN orders_break_down obd\n",
    "        ON o.order_id = obd.order_id\n",
    "    ORDER BY customer_name ASC\n",
    "'''\n",
    "customers_all_products_purchased = sql.read_sql(sql_string, con = db_connection)\n",
    "customers_all_products_purchased"
   ]
  },
  {
   "cell_type": "markdown",
   "id": "23933e15",
   "metadata": {},
   "source": [
    "#### 9.A Select Number of 'Furniture' Orders For Each Country"
   ]
  },
  {
   "cell_type": "code",
   "execution_count": null,
   "id": "31ae1b3d",
   "metadata": {},
   "outputs": [],
   "source": [
    "# Select Number of 'Furniture' Orders For Each Country\n",
    "\n",
    "sql_string = '''\n",
    "    SELECT\n",
    "        o.country\n",
    "        , COUNT(DISTINCT o.order_id) AS number_of_furniture_orders\n",
    "    FROM orders o\n",
    "    JOIN orders_break_down obd\n",
    "        ON o.order_id = obd.order_id\n",
    "    WHERE obd.category = 'Furniture'\n",
    "    GROUP BY o.country\n",
    "'''\n",
    "# The SELECT is for the country and the count of distinct order_ids\n",
    "# The FROM is for the orders table aliased as 'o'\n",
    "# The JOIN is for the orders_break_down table aliased as 'obd'\n",
    "# The ON is for the order_id\n",
    "# The WHERE is for the category 'Furniture'\n",
    "\n",
    "furniture_orders_by_country = sql.read_sql(sql_string, con = db_connection)\n",
    "furniture_orders_by_country"
   ]
  },
  {
   "cell_type": "markdown",
   "id": "45560b2f",
   "metadata": {},
   "source": [
    "#### 9.B Select Number of 'Furniture' Orders For The Country Denmark"
   ]
  },
  {
   "cell_type": "code",
   "execution_count": null,
   "id": "3ddf699f",
   "metadata": {},
   "outputs": [],
   "source": [
    "# Select Number of 'Furniture' Orders For The Country Denmark\n",
    "\n",
    "sql_string = '''\n",
    "    SELECT\n",
    "        o.country\n",
    "        , COUNT(DISTINCT o.order_id) AS number_of_furniture_orders\n",
    "    FROM orders o\n",
    "    JOIN orders_break_down obd\n",
    "        ON o.order_id = obd.order_id\n",
    "    WHERE obd.category = 'Furniture'\n",
    "        AND o.country = 'Denmark'\n",
    "    GROUP BY o.country\n",
    "'''\n",
    "# \n",
    "# The SELECT is for the country and the count of distinct order_ids\n",
    "# The FROM is for the orders table aliased as 'o'\n",
    "# The JOIN is for the orders_break_down table aliased as 'obd'\n",
    "# The ON is for the order_id\n",
    "# The WHERE is for the category 'Furniture' and the country 'Denmark'"
   ]
  },
  {
   "cell_type": "markdown",
   "id": "eaa02404",
   "metadata": {},
   "source": [
    "#### 10. Select Total Sales With Discount and Without Discount for Each Country"
   ]
  },
  {
   "cell_type": "code",
   "execution_count": null,
   "id": "4839e8ca",
   "metadata": {},
   "outputs": [],
   "source": [
    "# Select Total Sales With Discount (discount > 0) and Without Discount (discount = 0) for Each Country\n",
    "\n",
    "sql_string = '''\n",
    "    SELECT\n",
    "        orders.country\n",
    "        , SUM(CASE WHEN discount == 0 THEN sales ELSE 0 END) AS non_discount_sales\n",
    "        , SUM(CASE WHEN discount > 0 THEN sales ELSE 0 END) AS discount_sales\n",
    "    FROM orders\n",
    "    JOIN orders_break_down ON orders.order_id = orders_break_down.order_id\n",
    "    GROUP BY orders.country\n",
    "'''\n",
    "\n",
    "order_list = sql.read_sql(sql_string, con = db_connection)\n",
    "\n",
    "order_list"
   ]
  },
  {
   "cell_type": "markdown",
   "id": "1fe5c44b",
   "metadata": {},
   "source": [
    "#### 11.A Select Total Quantity, Total Sales for Each Country"
   ]
  },
  {
   "cell_type": "code",
   "execution_count": null,
   "id": "37ddacde",
   "metadata": {},
   "outputs": [],
   "source": [
    "# Select Total Quantity, Total Sales for Each Country\n",
    "sql_string = '''\n",
    "    SELECT\n",
    "        orders.country\n",
    "        , SUM(orders_break_down.quantity) AS total_quantity\n",
    "        , SUM(orders_break_down.sales) AS total_sales\n",
    "    FROM orders\n",
    "    JOIN orders_break_down ON orders.order_id = orders_break_down.order_id\n",
    "    GROUP BY orders.country\n",
    "'''\n",
    "order_list = sql.read_sql(sql_string, con = db_connection)\n",
    "order_list\n",
    "# 'orders.country' is the country column from the orders table\n",
    "# 'SUM(orders_break_down.quantity)' is the sum of the quantity column from the orders_break_down table\n",
    "# 'SUM(orders_break_down.sales)' is the sum of the sales column from the orders_break_down table\n",
    "# The FROM is for the orders table. \n",
    "# The JOIN is for the orders_break_down table. \n",
    "# The ON is for the order_id. \n",
    "# The GROUP BY is for the country."
   ]
  },
  {
   "cell_type": "markdown",
   "id": "8439acf9",
   "metadata": {},
   "source": [
    "#### 11.B Select Top 3 Countries and Quantities Based on Total Sales"
   ]
  },
  {
   "cell_type": "code",
   "execution_count": null,
   "id": "3785c07e",
   "metadata": {},
   "outputs": [],
   "source": [
    "# Select Top 3 Countries and Quantities Based on Total Sales\n",
    "\n",
    "sql_string = '''\n",
    "    SELECT\n",
    "        orders.country\n",
    "        , SUM(orders_break_down.quantity) AS total_quantity\n",
    "        , SUM(orders_break_down.sales) AS total_sales\n",
    "    FROM orders\n",
    "    JOIN orders_break_down ON orders.order_id = orders_break_down.order_id\n",
    "    GROUP BY orders.country\n",
    "    ORDER BY total_sales DESC\n",
    "    LIMIT 3\n",
    "'''\n",
    "orders_top_3_countries_by_sales = sql.read_sql(sql_string, con = db_connection)\n",
    "orders_top_3_countries_by_sales\n",
    "\n",
    "# 'orders.country' is the country column from the orders table\n",
    "# 'SUM(orders_break_down.quantity)' is the sum of the quantity column from the orders_break_down table\n",
    "# 'SUM(orders_break_down.sales)' is the sum of the sales column from the orders_break_down table\n",
    "# FROM is for the orders table.\n",
    "# JOIN is for the orders_break_down table. Again, this is an INNER JOIN.\n",
    "# ON is for the order_id.\n",
    "# GROUP BY is for the country.\n",
    "# ORDER BY is for the total_sales in descending order to show the highest sales first.\n",
    "# LIMIT 3 is to show only the top 3 countries by sales."
   ]
  },
  {
   "cell_type": "markdown",
   "id": "cbffcf62",
   "metadata": {},
   "source": [
    "#### 11.C Select Bottom 3 Countries and Sales Based On Total Quantities"
   ]
  },
  {
   "cell_type": "code",
   "execution_count": null,
   "id": "698d4570",
   "metadata": {},
   "outputs": [],
   "source": [
    "# Select Bottom 3 Countries and Sales Based On Total Quantities\n",
    "\n",
    "sql_string = '''\n",
    "    SELECT \n",
    "        orders.country\n",
    "        , SUM(orders_break_down.quantity) AS total_quantity\n",
    "        , SUM(orders_break_down.sales) AS total_sales\n",
    "    FROM orders\n",
    "    JOIN orders_break_down ON orders.order_id = orders_break_down.order_id\n",
    "    GROUP BY orders.country\n",
    "    ORDER BY total_quantity ASC\n",
    "    LIMIT 3\n",
    "'''\n",
    "orders_bottom_3_countries_by_quantity = sql.read_sql(sql_string, con = db_connection)\n",
    "orders_bottom_3_countries_by_quantity\n",
    "\n",
    "# 'orders.country' is the country column from the orders table\n",
    "# 'SUM(orders_break_down.quantity)' is the sum of the quantity column from the orders_break_down table\n",
    "# 'SUM(orders_break_down.sales)' is the sum of the sales column from the orders_break_down table\n",
    "# FROM is for the orders table.\n",
    "# JOIN is for the orders_break_down table. Again, this is an INNER JOIN.\n",
    "# ON is for the order_id.\n",
    "# GROUP BY is for the country.\n",
    "# ORDER BY is for the total_quantity in ascending order to show the lowest quantity first.\n",
    "# LIMIT 3 is to show only the bottom 3 countries by quantity."
   ]
  },
  {
   "cell_type": "markdown",
   "id": "8195b0e8",
   "metadata": {},
   "source": [
    "#### 12. Select Average Sales By Category For The Country 'France'"
   ]
  },
  {
   "cell_type": "code",
   "execution_count": null,
   "id": "9595c8ea",
   "metadata": {},
   "outputs": [],
   "source": [
    "# Select Average Sales By Category For The Country 'France'\n",
    "\n",
    "sql_string = '''\n",
    "    SELECT\n",
    "        orders.country\n",
    "        , orders_break_down.category\n",
    "        , AVG(sales) AS avg_sales\n",
    "    FROM orders\n",
    "    JOIN orders_break_down ON orders.order_id = orders_break_down.order_id\n",
    "    WHERE orders.country = 'France' \n",
    "    GROUP BY orders.country, orders_break_down.category\n",
    "    ORDER BY avg_sales DESC\n",
    "'''\n",
    "\n",
    "order_list = sql.read_sql(sql_string, con = db_connection)\n",
    "\n",
    "order_list"
   ]
  },
  {
   "cell_type": "code",
   "execution_count": null,
   "id": "bc988782",
   "metadata": {},
   "outputs": [],
   "source": [
    "query = \"\"\"\n",
    "    SELECT\n",
    "        category,\n",
    "        AVG(sales) AS avg_sales\n",
    "    FROM \n",
    "        orders o\n",
    "    JOIN \n",
    "        orders_break_down ob ON o.order_id = ob.order_id\n",
    "    WHERE \n",
    "        o.country = 'France'\n",
    "    GROUP BY \n",
    "        category\n",
    "    ORDER BY \n",
    "        avg_sales DESC;\n",
    "\"\"\"\n",
    "\n",
    "order_list = sql.read_sql(query, con=db_connection)\n",
    "order_list"
   ]
  },
  {
   "cell_type": "markdown",
   "id": "d985f71b",
   "metadata": {},
   "source": [
    "#### 13. Select Country, Category and Average Sales Where Average Sales is The Highest"
   ]
  },
  {
   "cell_type": "code",
   "execution_count": null,
   "id": "e6216399",
   "metadata": {},
   "outputs": [],
   "source": [
    "# Select Country, Category and Average Sales Where Average Sales is The Highest\n",
    "\n",
    "sql_string = \"\"\"\n",
    "    SELECT\n",
    "        orders.country\n",
    "        , orders_break_down.category\n",
    "        , AVG(sales) AS avg_sales\n",
    "    FROM orders\n",
    "    JOIN orders_break_down ON orders.order_id = orders_break_down.order_id\n",
    "    GROUP BY orders.country, orders_break_down.category\n",
    "    ORDER BY avg_sales DESC\n",
    "    LIMIT 1\n",
    "\"\"\"\n",
    "\n",
    "country_with_highest_average_sales = sql.read_sql(sql_string, con = db_connection)\n",
    "country_with_highest_average_sales\n",
    "\n",
    "# First, 'orders.country' is the country column from the orders table\n",
    "# 'orders_break_down.category' is the category column from the orders_break_down table\n",
    "# 'AVG(sales)' is the average of the sales column\n",
    "# FROM is for the orders table.\n",
    "# JOIN is for the orders_break_down table. Again, this is an INNER JOIN.\n",
    "# ON is for the order_id.\n",
    "# GROUP BY is for the country and the category.\n",
    "# ORDER BY is for the average sales in descending order to show the highest average sales first.\n",
    "# LIMIT 1 is to show only the top country and category by average sales."
   ]
  }
 ],
 "metadata": {
  "colab": {
   "provenance": []
  },
  "kernelspec": {
   "display_name": "Python 3 (ipykernel)",
   "language": "python",
   "name": "python3"
  },
  "language_info": {
   "codemirror_mode": {
    "name": "ipython",
    "version": 3
   },
   "file_extension": ".py",
   "mimetype": "text/x-python",
   "name": "python",
   "nbconvert_exporter": "python",
   "pygments_lexer": "ipython3",
   "version": "3.11.5"
  }
 },
 "nbformat": 4,
 "nbformat_minor": 5
}
